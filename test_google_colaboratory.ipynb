{
  "nbformat": 4,
  "nbformat_minor": 0,
  "metadata": {
    "colab": {
      "name": "Untitled0.ipynb",
      "provenance": [],
      "authorship_tag": "ABX9TyMfymYloFQZ7xOw9uXfXBFn",
      "include_colab_link": true
    },
    "kernelspec": {
      "name": "python3",
      "display_name": "Python 3"
    },
    "language_info": {
      "name": "python"
    }
  },
  "cells": [
    {
      "cell_type": "markdown",
      "metadata": {
        "id": "view-in-github",
        "colab_type": "text"
      },
      "source": [
        "<a href=\"https://colab.research.google.com/github/nkoichev/nkoichev/blob/main/test_google_colaboratory.ipynb\" target=\"_parent\"><img src=\"https://colab.research.google.com/assets/colab-badge.svg\" alt=\"Open In Colab\"/></a>"
      ]
    },
    {
      "cell_type": "code",
      "execution_count": 1,
      "metadata": {
        "colab": {
          "base_uri": "https://localhost:8080/"
        },
        "id": "0jU02ENFktZx",
        "outputId": "6148e71f-d360-4b7d-eb15-a16fef51d3ed"
      },
      "outputs": [
        {
          "output_type": "stream",
          "name": "stdout",
          "text": [
            "nmk\n"
          ]
        }
      ],
      "source": [
        "print('nmk')"
      ]
    },
    {
      "cell_type": "code",
      "source": [
        "5+6\n",
        "import pandas as pd\n"
      ],
      "metadata": {
        "id": "v_gdtr9qlHSW"
      },
      "execution_count": 3,
      "outputs": []
    },
    {
      "cell_type": "code",
      "source": [
        ""
      ],
      "metadata": {
        "id": "C8Zunu0WlO8r"
      },
      "execution_count": null,
      "outputs": []
    }
  ]
}